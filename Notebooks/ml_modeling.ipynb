{
 "cells": [
  {
   "cell_type": "code",
   "execution_count": null,
   "metadata": {},
   "outputs": [],
   "source": [
    "# Importing Pandas an Numpy Libraries to use on manipulating our Data\n",
    "import pandas as pd\n",
    "import numpy as np\n",
    "\n",
    "from sklearn.ensemble import RandomForestClassifier\n",
    "from sklearn.linear_model import LogisticRegression\n",
    "from sklearn.model_selection import cross_val_score\n",
    "\n",
    "import dvc.api\n",
    "import io\n",
    "\n",
    "import sys\n",
    "sys.path.append(\"../\")\n",
    "\n",
    "from Scripts.modeling_pipeline import run_train_pipeline, get_pipeline"
   ]
  },
  {
   "cell_type": "code",
   "execution_count": null,
   "metadata": {},
   "outputs": [],
   "source": []
  },
  {
   "cell_type": "markdown",
   "metadata": {},
   "source": [
    "## Steps to get the data\n",
    "\n",
    "1. Make sure you are in sync with the latest main branch.\n",
    "2. run `dvc pull` to get the latest data versions\n",
    "3. In the next cell change the `version` and `path` to access the file you want.\n",
    "\n",
    "you can find the file names by exploring the data folder.\n",
    "For the versions, follow this:\n",
    "\n",
    " - all files starting with `browser_` can be accessed starting from version=v1.1.1\n",
    " - all files starting with `brand_` can be accessed starting from version=v1.1.2\n",
    " - you can find the cleaned data with `device_make` converted to `brands` at version=v1.1\n",
    " - you can find the cleaned raw data at version=v1\n",
    " - you can find the raw data at version=v0\n",
    "  \n",
    "\n",
    "The last 3 files have the same name `AdSmartABdata.csv`"
   ]
  },
  {
   "cell_type": "code",
   "execution_count": null,
   "metadata": {},
   "outputs": [],
   "source": [
    "def dvc_get_data(path, version='v3'):\n",
    "    repo = \"../\"\n",
    "    content = dvc.api.read(path=path, \n",
    "                    repo=repo, \n",
    "                    rev=version)\n",
    "    df = pd.read_csv(io.StringIO(content), sep=\",\")\n",
    "\n",
    "    return df\n",
    "\n",
    "df = dvc_get_data('Data/platform_os_6.csv')\n",
    "df.info()"
   ]
  },
  {
   "cell_type": "code",
   "execution_count": null,
   "metadata": {},
   "outputs": [],
   "source": [
    "x = df.drop(columns=['response'])\n",
    "y = df['response'].values"
   ]
  },
  {
   "cell_type": "code",
   "execution_count": null,
   "metadata": {},
   "outputs": [],
   "source": [
    "model = LogisticRegression()"
   ]
  },
  {
   "cell_type": "code",
   "execution_count": null,
   "metadata": {},
   "outputs": [],
   "source": [
    "run_train_pipeline(model, x, y, \n",
    "                experiment_name='Logistic regression model',\n",
    "                run_name='first_run')"
   ]
  },
  {
   "cell_type": "code",
   "execution_count": null,
   "metadata": {},
   "outputs": [],
   "source": []
  },
  {
   "cell_type": "code",
   "execution_count": null,
   "metadata": {},
   "outputs": [],
   "source": []
  },
  {
   "cell_type": "code",
   "execution_count": null,
   "metadata": {},
   "outputs": [],
   "source": []
  }
 ],
 "metadata": {
  "language_info": {
   "name": "python"
  },
  "orig_nbformat": 4
 },
 "nbformat": 4,
 "nbformat_minor": 2
}
